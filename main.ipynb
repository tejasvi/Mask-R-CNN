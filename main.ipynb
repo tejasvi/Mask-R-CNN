<!DOCTYPE html>
<meta charset="UTF-8">
<script>
  // Avoid arrow function syntax to stay ES5 compatible for the sake of googlebot.
  window.addEventListener('message', function(message)  {
    if (message.source != window.parent) {
      return;
    }
    if (message.data.sandboxed_iframe_evaluation) {
      // Message is available in scope so evaluated script can get params from
      // it.
      window.currentMessage = message;
      eval.call(null, message.data.sandboxed_iframe_evaluation);
      delete window.currentMessage;
    }
  });
</script>
